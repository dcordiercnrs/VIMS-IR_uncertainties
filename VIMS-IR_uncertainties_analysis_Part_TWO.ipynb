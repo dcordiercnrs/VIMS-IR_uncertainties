{
 "cells": [
  {
   "cell_type": "markdown",
   "id": "rubber-cabinet",
   "metadata": {},
   "source": [
    "# VIMS-IR Uncertainties analysis - Part. 2: Data Analysis\n",
    "\n",
    "D. Cordier, B. Seignovert\n",
    "  - December 6th, 2022.\n",
    "  \n",
    "**Purpose**\n",
    "  - This material supports the research note \"*Photometric Uncertainties of Cassini VIMS-IR Iinstrument*\" by Daniel Cordier, Benoît Seignovert, Stéphane Le Mouélic and Christophe Sotin.\n",
    "  - The collection of selected VIMS-IR cubes has to be imported and within each individual cube a set of 3x3 pixels boxes are randomly selected. \n",
    "  - `pandas` is a powerful Python package dedicated to data analysis, in a `pandas` workflow datasets are recorded in specific files called `DataFrames`.\n",
    "  - in this notebook we import the VIMS-IR cubes, and extract data from each of these 149 files, data are eventually stored in two `pandas` `DataFrames` which are saved in two specific `HDF5` files.\n",
    "\n",
    "**Python requirements** \n",
    "We list below the required Python modules that have to been installed on the user machine:\n",
    "\n",
    "**Installation of the Python VIRTUAL ENVIRONMENT**\n",
    "  - `mkdir env_VIMSuncert`\n",
    "  - `python3 -m venv env_VIMSuncert`\n",
    "  - activation of the virtual environment: `source env_VIMSuncert/bin/activate`\n",
    "  - `pip install pip --upgrade`\n",
    "  - `pip install pyvims`\n",
    "  - `pip install pandas`"
   ]
  },
  {
   "cell_type": "code",
   "execution_count": 1,
   "id": "intellectual-january",
   "metadata": {},
   "outputs": [],
   "source": [
    "import numpy as np\n",
    "import matplotlib.pyplot as plt\n",
    "\n",
    "import pandas as pd\n",
    "import pyvims"
   ]
  },
  {
   "cell_type": "code",
   "execution_count": null,
   "id": "spread-burner",
   "metadata": {},
   "outputs": [],
   "source": []
  },
  {
   "cell_type": "code",
   "execution_count": null,
   "id": "collaborative-charm",
   "metadata": {},
   "outputs": [],
   "source": []
  }
 ],
 "metadata": {
  "kernelspec": {
   "display_name": "Python 3",
   "language": "python",
   "name": "python3"
  },
  "language_info": {
   "codemirror_mode": {
    "name": "ipython",
    "version": 3
   },
   "file_extension": ".py",
   "mimetype": "text/x-python",
   "name": "python",
   "nbconvert_exporter": "python",
   "pygments_lexer": "ipython3",
   "version": "3.9.2"
  },
  "varInspector": {
   "cols": {
    "lenName": 16,
    "lenType": 16,
    "lenVar": 40
   },
   "kernels_config": {
    "python": {
     "delete_cmd_postfix": "",
     "delete_cmd_prefix": "del ",
     "library": "var_list.py",
     "varRefreshCmd": "print(var_dic_list())"
    },
    "r": {
     "delete_cmd_postfix": ") ",
     "delete_cmd_prefix": "rm(",
     "library": "var_list.r",
     "varRefreshCmd": "cat(var_dic_list()) "
    }
   },
   "types_to_exclude": [
    "module",
    "function",
    "builtin_function_or_method",
    "instance",
    "_Feature"
   ],
   "window_display": false
  }
 },
 "nbformat": 4,
 "nbformat_minor": 5
}
